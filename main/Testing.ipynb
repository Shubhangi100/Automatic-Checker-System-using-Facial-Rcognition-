{
 "cells": [
  {
   "cell_type": "code",
   "execution_count": 16,
   "metadata": {
    "collapsed": true
   },
   "outputs": [],
   "source": [
    "import cv2\n",
    "import os\n",
    "import numpy as np\n",
    "from tqdm import tqdm\n",
    "\n",
    "TEST_DIR  ='your testing directory'\n",
    "IMG_SIZE= 50\n",
    "\n",
    "LR= 1e-3\n",
    "MODEL_NAME= 'Automatic_Checker_System-{}-{}.model'.format(LR,'4_conv-basic')"
   ]
  },
  {
   "cell_type": "code",
   "execution_count": 17,
   "metadata": {
    "collapsed": true
   },
   "outputs": [],
   "source": [
    "## Specifying the already defined model on which the training was done\n",
    "\n",
    "import tflearn\n",
    "from tflearn.layers.conv import conv_2d, max_pool_2d\n",
    "from tflearn.layers.core import input_data, dropout, fully_connected\n",
    "from tflearn.layers.estimator import regression\n",
    "\n",
    "import tensorflow as tf\n",
    "tf.reset_default_graph()\n",
    "\n",
    "\n",
    "convnet= input_data(shape=[None,IMG_SIZE,IMG_SIZE,1], name= 'input')\n",
    "\n",
    "convnet= conv_2d(convnet,32,2, activation='relu')\n",
    "convnet= max_pool_2d(convnet,2)\n",
    "\n",
    "convnet= conv_2d(convnet,64,2, activation='relu')\n",
    "convnet= max_pool_2d(convnet,2)\n",
    "\n",
    "convnet= conv_2d(convnet,96,2, activation='relu')\n",
    "convnet= max_pool_2d(convnet,2)\n",
    "\n",
    "convnet= conv_2d(convnet,128,2, activation='relu')\n",
    "convnet= max_pool_2d(convnet,2)\n",
    "\n",
    "\n",
    "convnet= fully_connected(convnet, 200 , activation='softmax')\n",
    "convnet= regression(convnet, optimizer='adam', learning_rate=LR,loss='categorical_crossentropy', name='targets')\n",
    "\n",
    "model =tflearn.DNN(convnet, tensorboard_dir='log')"
   ]
  },
  {
   "cell_type": "code",
   "execution_count": 18,
   "metadata": {},
   "outputs": [
    {
     "name": "stdout",
     "output_type": "stream",
     "text": [
      "INFO:tensorflow:Restoring parameters from C:\\Users\\Dev\\MachineLearningProjects\\Automatic_Checker_System-0.001-4_conv-basic.model\n",
      "model loaded!\n"
     ]
    }
   ],
   "source": [
    "if os.path.exists('{}.meta'.format(MODEL_NAME)):\n",
    "    model.load(MODEL_NAME)\n",
    "    print('model loaded!')"
   ]
  },
  {
   "cell_type": "code",
   "execution_count": 19,
   "metadata": {
    "collapsed": true
   },
   "outputs": [],
   "source": [
    "## capturing the video feed\n",
    "\n",
    "webcam = cv2.VideoCapture('output_.mp4') \n",
    "\n",
    "## Haar cascades for detecting the frontal faces in the video\n",
    "classifier = cv2.CascadeClassifier('haarcascade_frontalface_alt2.xml')\n",
    "\n",
    "while webcam.isOpened():\n",
    "    (rval, im) = webcam.read()\n",
    "    if rval== False:\n",
    "        break\n",
    "    faces= classifier.detectMultiScale(im)\n",
    "    for (x,y,w,h) in faces:\n",
    "        sub_face= im[y:y+h, x:x+w]\n",
    "        filename= str(y)+\".jpg\"\n",
    "        cv2.imwrite(filename, sub_face)\n",
    "\n",
    "    if cv2.waitKey(1) & 0xff== ord('q'):\n",
    "        break\n",
    "\n",
    "webcam.release()\n",
    "cv2.destroyAllWindows()"
   ]
  },
  {
   "cell_type": "code",
   "execution_count": 20,
   "metadata": {
    "collapsed": true
   },
   "outputs": [],
   "source": [
    "## copying the images to the test directory\n",
    "\n",
    "import glob\n",
    "import shutil\n",
    "\n",
    "\n",
    "src_dir = \"C:\\\\Users\\\\Dev\\\\MachineLearningProjects\"\n",
    "dst_dir = \"C:\\\\Users\\\\Dev\\\\MachineLearningProjects\\\\Test_images\"\n",
    "for jpgfile in glob.iglob(os.path.join(src_dir, \"*.jpg\")):\n",
    "    shutil.copy(jpgfile, dst_dir)\n"
   ]
  },
  {
   "cell_type": "code",
   "execution_count": 21,
   "metadata": {
    "collapsed": true
   },
   "outputs": [],
   "source": [
    "def process_test_data():\n",
    "    testing_data=[]\n",
    "    for img in tqdm(os.listdir(TEST_DIR)):\n",
    "        path= os.path.join(TEST_DIR,img)\n",
    "        img_num= img.split('.')[0]\n",
    "        img= cv2.resize(cv2.imread(path,cv2.IMREAD_GRAYSCALE),(IMG_SIZE,IMG_SIZE),interpolation=cv2.INTER_CUBIC)\n",
    "        testing_data.append([np.array(img),img_num])\n",
    "    np.save('test_data.npy',testing_data)\n",
    "    return testing_data"
   ]
  },
  {
   "cell_type": "code",
   "execution_count": 22,
   "metadata": {
    "scrolled": true
   },
   "outputs": [
    {
     "name": "stderr",
     "output_type": "stream",
     "text": [
      "100%|█████████████████████████████████████████| 30/30 [00:00<00:00, 468.87it/s]\n"
     ]
    },
    {
     "name": "stdout",
     "output_type": "stream",
     "text": [
      "1 100\n",
      "1 101\n",
      "126 102\n",
      "9 103\n",
      "9 104\n",
      "13 105\n",
      "13 106\n",
      "13 107\n",
      "3 108\n",
      "14 115\n",
      "14 116\n"
     ]
    }
   ],
   "source": [
    "## Collecting the testing data in a list\n",
    "\n",
    "\n",
    "test_data= process_test_data()\n",
    "\n",
    "\n",
    "\n",
    "for num,data in enumerate(test_data[:11]):\n",
    "    \n",
    "    im_num=data[1]\n",
    "    im_data= np.array(data[0])\n",
    "\n",
    "    data= im_data.reshape(IMG_SIZE,IMG_SIZE,1)\n",
    "    \n",
    "    model_out= model.predict([data])\n",
    "    print(np.argmax(model_out[0])+1,im_num)\n",
    "\n",
    "    \n",
    "    "
   ]
  },
  {
   "cell_type": "code",
   "execution_count": null,
   "metadata": {
    "collapsed": true
   },
   "outputs": [],
   "source": [
    "## The model is predicting on test data with an accuracy of 85%"
   ]
  },
  {
   "cell_type": "code",
   "execution_count": null,
   "metadata": {
    "collapsed": true
   },
   "outputs": [],
   "source": []
  }
 ],
 "metadata": {
  "kernelspec": {
   "display_name": "myWindowsCV",
   "language": "python",
   "name": "mywindowscv"
  },
  "language_info": {
   "codemirror_mode": {
    "name": "ipython",
    "version": 3
   },
   "file_extension": ".py",
   "mimetype": "text/x-python",
   "name": "python",
   "nbconvert_exporter": "python",
   "pygments_lexer": "ipython3",
   "version": "3.6.4"
  }
 },
 "nbformat": 4,
 "nbformat_minor": 2
}
